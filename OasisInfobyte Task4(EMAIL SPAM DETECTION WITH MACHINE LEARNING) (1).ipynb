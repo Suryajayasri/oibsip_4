{
 "cells": [
  {
   "cell_type": "code",
   "execution_count": 1,
   "id": "426ec866",
   "metadata": {},
   "outputs": [],
   "source": [
    "import pandas as pd\n",
    "from sklearn.feature_extraction.text import CountVectorizer\n",
    "from sklearn.model_selection import train_test_split\n",
    "from sklearn.naive_bayes import MultinomialNB\n",
    "from sklearn.metrics import accuracy_score, confusion_matrix, classification_report\n",
    "\n",
    "# Loading the dataset\n",
    "df = pd.read_csv(\"C:\\\\Users\\\\gsury\\Downloads\\spam.csv\", encoding='latin-1')\n",
    "df = df[['v1', 'v2']] \n",
    "\n",
    "df.columns = ['label', 'text']\n",
    "\n"
   ]
  },
  {
   "cell_type": "code",
   "execution_count": 2,
   "id": "0345bc18",
   "metadata": {},
   "outputs": [
    {
     "data": {
      "text/html": [
       "<div>\n",
       "<style scoped>\n",
       "    .dataframe tbody tr th:only-of-type {\n",
       "        vertical-align: middle;\n",
       "    }\n",
       "\n",
       "    .dataframe tbody tr th {\n",
       "        vertical-align: top;\n",
       "    }\n",
       "\n",
       "    .dataframe thead th {\n",
       "        text-align: right;\n",
       "    }\n",
       "</style>\n",
       "<table border=\"1\" class=\"dataframe\">\n",
       "  <thead>\n",
       "    <tr style=\"text-align: right;\">\n",
       "      <th></th>\n",
       "      <th>label</th>\n",
       "      <th>text</th>\n",
       "    </tr>\n",
       "  </thead>\n",
       "  <tbody>\n",
       "    <tr>\n",
       "      <th>0</th>\n",
       "      <td>ham</td>\n",
       "      <td>Go until jurong point, crazy.. Available only ...</td>\n",
       "    </tr>\n",
       "    <tr>\n",
       "      <th>1</th>\n",
       "      <td>ham</td>\n",
       "      <td>Ok lar... Joking wif u oni...</td>\n",
       "    </tr>\n",
       "    <tr>\n",
       "      <th>2</th>\n",
       "      <td>spam</td>\n",
       "      <td>Free entry in 2 a wkly comp to win FA Cup fina...</td>\n",
       "    </tr>\n",
       "    <tr>\n",
       "      <th>3</th>\n",
       "      <td>ham</td>\n",
       "      <td>U dun say so early hor... U c already then say...</td>\n",
       "    </tr>\n",
       "    <tr>\n",
       "      <th>4</th>\n",
       "      <td>ham</td>\n",
       "      <td>Nah I don't think he goes to usf, he lives aro...</td>\n",
       "    </tr>\n",
       "  </tbody>\n",
       "</table>\n",
       "</div>"
      ],
      "text/plain": [
       "  label                                               text\n",
       "0   ham  Go until jurong point, crazy.. Available only ...\n",
       "1   ham                      Ok lar... Joking wif u oni...\n",
       "2  spam  Free entry in 2 a wkly comp to win FA Cup fina...\n",
       "3   ham  U dun say so early hor... U c already then say...\n",
       "4   ham  Nah I don't think he goes to usf, he lives aro..."
      ]
     },
     "execution_count": 2,
     "metadata": {},
     "output_type": "execute_result"
    }
   ],
   "source": [
    "df.head()"
   ]
  },
  {
   "cell_type": "code",
   "execution_count": 3,
   "id": "e5ed1af7",
   "metadata": {},
   "outputs": [
    {
     "name": "stdout",
     "output_type": "stream",
     "text": [
      "<class 'pandas.core.frame.DataFrame'>\n",
      "RangeIndex: 5572 entries, 0 to 5571\n",
      "Data columns (total 2 columns):\n",
      " #   Column  Non-Null Count  Dtype \n",
      "---  ------  --------------  ----- \n",
      " 0   label   5572 non-null   object\n",
      " 1   text    5572 non-null   object\n",
      "dtypes: object(2)\n",
      "memory usage: 87.2+ KB\n"
     ]
    }
   ],
   "source": [
    "df.info()"
   ]
  },
  {
   "cell_type": "code",
   "execution_count": 5,
   "id": "6ea9d467",
   "metadata": {},
   "outputs": [
    {
     "data": {
      "text/plain": [
       "label    0\n",
       "text     0\n",
       "dtype: int64"
      ]
     },
     "execution_count": 5,
     "metadata": {},
     "output_type": "execute_result"
    }
   ],
   "source": [
    "df.isnull().sum()"
   ]
  },
  {
   "cell_type": "code",
   "execution_count": 8,
   "id": "2df2a5e0",
   "metadata": {},
   "outputs": [],
   "source": [
    "df['label'] = df['label'].apply(lambda x: 1 if x == 'spam' else 0)"
   ]
  },
  {
   "cell_type": "code",
   "execution_count": 9,
   "id": "95ef7a3d",
   "metadata": {},
   "outputs": [],
   "source": [
    "X_train, X_test, y_train, y_test = train_test_split(df['text'], df['label'], test_size=0.2, random_state=42)\n",
    "\n",
    "# Initializing the CountVectorizer to convert text data into numerical features\n",
    "vectorizer = CountVectorizer()\n",
    "X_train_vectorized = vectorizer.fit_transform(X_train)\n",
    "X_test_vectorized = vectorizer.transform(X_test)"
   ]
  },
  {
   "cell_type": "code",
   "execution_count": 10,
   "id": "0500782f",
   "metadata": {},
   "outputs": [
    {
     "name": "stdout",
     "output_type": "stream",
     "text": [
      "  (0, 4773)\t1\n",
      "  (0, 3637)\t1\n",
      "  (0, 6786)\t1\n",
      "  (0, 5872)\t1\n",
      "  (0, 1415)\t1\n",
      "  (0, 6455)\t1\n",
      "  (0, 3416)\t1\n",
      "  (0, 1105)\t1\n",
      "  (0, 4646)\t1\n",
      "  (0, 4549)\t1\n",
      "  (0, 1758)\t1\n",
      "  (0, 4390)\t1\n",
      "  (0, 4988)\t1\n",
      "  (0, 4912)\t1\n",
      "  (0, 7674)\t1\n",
      "  (0, 3308)\t1\n",
      "  (0, 4661)\t1\n",
      "  (1, 1218)\t1\n",
      "  (1, 4869)\t1\n",
      "  (1, 3237)\t1\n",
      "  (1, 3749)\t1\n",
      "  (1, 6494)\t1\n",
      "  (1, 1580)\t1\n",
      "  (1, 2741)\t1\n",
      "  (1, 5178)\t1\n",
      "  :\t:\n",
      "  (4452, 1833)\t1\n",
      "  (4452, 1628)\t1\n",
      "  (4452, 3532)\t1\n",
      "  (4452, 3509)\t1\n",
      "  (4453, 1608)\t1\n",
      "  (4453, 4147)\t1\n",
      "  (4453, 4019)\t1\n",
      "  (4453, 6299)\t1\n",
      "  (4454, 3383)\t1\n",
      "  (4454, 5335)\t1\n",
      "  (4454, 6306)\t1\n",
      "  (4454, 5590)\t1\n",
      "  (4454, 3028)\t1\n",
      "  (4454, 6305)\t1\n",
      "  (4455, 3841)\t1\n",
      "  (4455, 4827)\t1\n",
      "  (4455, 6002)\t1\n",
      "  (4455, 6922)\t1\n",
      "  (4456, 3637)\t2\n",
      "  (4456, 4823)\t1\n",
      "  (4456, 3182)\t1\n",
      "  (4456, 3361)\t1\n",
      "  (4456, 7558)\t1\n",
      "  (4456, 2836)\t1\n",
      "  (4456, 4464)\t1\n"
     ]
    }
   ],
   "source": [
    "print(X_train_vectorized)"
   ]
  },
  {
   "cell_type": "code",
   "execution_count": 11,
   "id": "aaf4b1d4",
   "metadata": {},
   "outputs": [
    {
     "name": "stdout",
     "output_type": "stream",
     "text": [
      "  (0, 1808)\t1\n",
      "  (0, 2759)\t1\n",
      "  (0, 3067)\t1\n",
      "  (0, 3337)\t1\n",
      "  (0, 3567)\t1\n",
      "  (0, 3873)\t1\n",
      "  (0, 4685)\t1\n",
      "  (0, 4773)\t1\n",
      "  (0, 4776)\t1\n",
      "  (0, 7040)\t1\n",
      "  (0, 7482)\t1\n",
      "  (1, 923)\t1\n",
      "  (1, 955)\t1\n",
      "  (1, 1036)\t1\n",
      "  (1, 1987)\t1\n",
      "  (1, 2023)\t1\n",
      "  (1, 2375)\t2\n",
      "  (1, 2731)\t1\n",
      "  (1, 2836)\t1\n",
      "  (1, 2954)\t1\n",
      "  (1, 3298)\t1\n",
      "  (1, 3415)\t1\n",
      "  (1, 3600)\t1\n",
      "  (1, 3739)\t1\n",
      "  (1, 3837)\t1\n",
      "  :\t:\n",
      "  (1111, 7152)\t1\n",
      "  (1111, 7386)\t1\n",
      "  (1111, 7425)\t1\n",
      "  (1112, 3361)\t1\n",
      "  (1112, 4495)\t1\n",
      "  (1112, 4614)\t1\n",
      "  (1112, 6251)\t2\n",
      "  (1112, 6763)\t1\n",
      "  (1112, 6781)\t1\n",
      "  (1112, 7475)\t1\n",
      "  (1112, 7662)\t1\n",
      "  (1112, 7679)\t1\n",
      "  (1113, 2422)\t1\n",
      "  (1113, 3129)\t1\n",
      "  (1113, 3416)\t1\n",
      "  (1113, 6786)\t1\n",
      "  (1114, 305)\t1\n",
      "  (1114, 1292)\t1\n",
      "  (1114, 1353)\t1\n",
      "  (1114, 1454)\t1\n",
      "  (1114, 3361)\t1\n",
      "  (1114, 4235)\t1\n",
      "  (1114, 4723)\t1\n",
      "  (1114, 5247)\t1\n",
      "  (1114, 7679)\t1\n"
     ]
    }
   ],
   "source": [
    "print(X_test_vectorized)"
   ]
  },
  {
   "cell_type": "code",
   "execution_count": 7,
   "id": "662a2e27",
   "metadata": {},
   "outputs": [],
   "source": [
    "model = MultinomialNB()\n",
    "\n",
    "# Training the model on the training data\n",
    "model.fit(X_train_vectorized, y_train)\n",
    "\n",
    "# Making predictions on the test data\n",
    "y_pred = model.predict(X_test_vectorized)"
   ]
  },
  {
   "cell_type": "code",
   "execution_count": 8,
   "id": "136e015b",
   "metadata": {},
   "outputs": [
    {
     "name": "stdout",
     "output_type": "stream",
     "text": [
      "[0 0 1 ... 0 0 1]\n"
     ]
    }
   ],
   "source": [
    "print(y_pred)"
   ]
  },
  {
   "cell_type": "code",
   "execution_count": 9,
   "id": "be9d9571",
   "metadata": {},
   "outputs": [],
   "source": [
    "from sklearn.metrics import accuracy_score,confusion_matrix,classification_report\n",
    "accuracy = accuracy_score(y_test, y_pred)\n",
    "conf_matrix = confusion_matrix(y_test, y_pred)\n",
    "classification_rep = classification_report(y_test, y_pred)\n"
   ]
  },
  {
   "cell_type": "code",
   "execution_count": 12,
   "id": "2d40660c",
   "metadata": {},
   "outputs": [
    {
     "name": "stdout",
     "output_type": "stream",
     "text": [
      "Accuracy: 0.98\n"
     ]
    }
   ],
   "source": [
    "print(f\"Accuracy: {accuracy:.2f}\")\n"
   ]
  },
  {
   "cell_type": "code",
   "execution_count": 13,
   "id": "b6ed92c7",
   "metadata": {},
   "outputs": [
    {
     "name": "stdout",
     "output_type": "stream",
     "text": [
      "Confusion Matrix:\n",
      "[[963   2]\n",
      " [ 16 134]]\n"
     ]
    }
   ],
   "source": [
    "print(\"Confusion Matrix:\")\n",
    "print(conf_matrix)"
   ]
  },
  {
   "cell_type": "code",
   "execution_count": 14,
   "id": "18f2490f",
   "metadata": {},
   "outputs": [
    {
     "name": "stdout",
     "output_type": "stream",
     "text": [
      "Classification Report:\n",
      "              precision    recall  f1-score   support\n",
      "\n",
      "           0       0.98      1.00      0.99       965\n",
      "           1       0.99      0.89      0.94       150\n",
      "\n",
      "    accuracy                           0.98      1115\n",
      "   macro avg       0.98      0.95      0.96      1115\n",
      "weighted avg       0.98      0.98      0.98      1115\n",
      "\n"
     ]
    }
   ],
   "source": [
    "print(\"Classification Report:\")\n",
    "print(classification_rep)\n"
   ]
  }
 ],
 "metadata": {
  "kernelspec": {
   "display_name": "Python 3 (ipykernel)",
   "language": "python",
   "name": "python3"
  },
  "language_info": {
   "codemirror_mode": {
    "name": "ipython",
    "version": 3
   },
   "file_extension": ".py",
   "mimetype": "text/x-python",
   "name": "python",
   "nbconvert_exporter": "python",
   "pygments_lexer": "ipython3",
   "version": "3.9.12"
  }
 },
 "nbformat": 4,
 "nbformat_minor": 5
}
